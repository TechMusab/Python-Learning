{
 "cells": [
  {
   "cell_type": "markdown",
   "metadata": {},
   "source": [
    "# Numpy Python"
   ]
  },
  {
   "cell_type": "code",
   "execution_count": 5,
   "metadata": {},
   "outputs": [],
   "source": [
    "import numpy as np"
   ]
  },
  {
   "cell_type": "markdown",
   "metadata": {},
   "source": [
    "### Creating array from list"
   ]
  },
  {
   "cell_type": "code",
   "execution_count": 6,
   "metadata": {},
   "outputs": [
    {
     "name": "stdout",
     "output_type": "stream",
     "text": [
      "1d Array [1 2 3 4 5 6]\n"
     ]
    }
   ],
   "source": [
    "arr_1d=np.array([1,2,3,4,5,6])\n",
    "print(\"1d Array\",arr_1d)"
   ]
  },
  {
   "cell_type": "code",
   "execution_count": 7,
   "metadata": {},
   "outputs": [
    {
     "name": "stdout",
     "output_type": "stream",
     "text": [
      "2d Array [[1 2 3]\n",
      " [4 5 6]]\n"
     ]
    }
   ],
   "source": [
    "arr_2d=np.array([[1,2,3],[4,5,6]])\n",
    "print(\"2d Array\",arr_2d)"
   ]
  },
  {
   "cell_type": "markdown",
   "metadata": {},
   "source": [
    "### List vs Numpy"
   ]
  },
  {
   "cell_type": "code",
   "execution_count": 10,
   "metadata": {},
   "outputs": [
    {
     "name": "stdout",
     "output_type": "stream",
     "text": [
      "list Multplication [1, 2, 3, 1, 2, 3]\n"
     ]
    }
   ],
   "source": [
    "pylist=[1,2,3]\n",
    "print(\"list Multplication\",pylist*2)"
   ]
  },
  {
   "cell_type": "code",
   "execution_count": 11,
   "metadata": {},
   "outputs": [
    {
     "name": "stdout",
     "output_type": "stream",
     "text": [
      "python array Multiplication [2 4 6]\n"
     ]
    }
   ],
   "source": [
    "nparray=np.array([1,2,3])\n",
    "print(\"python array Multiplication\",nparray * 2)"
   ]
  },
  {
   "cell_type": "markdown",
   "metadata": {},
   "source": [
    "### Execution time differnce b/w python list and numpy array"
   ]
  },
  {
   "cell_type": "code",
   "execution_count": 17,
   "metadata": {},
   "outputs": [
    {
     "name": "stdout",
     "output_type": "stream",
     "text": [
      "Python List Execution Time: 1.2110381126403809\n",
      "Numpy Array Execution Time: 0.08573675155639648\n"
     ]
    }
   ],
   "source": [
    "import time\n",
    "start=time.time()\n",
    "pylist=[i*2 for i in range(10000000)]\n",
    "print(\"Python List Execution Time:\", time.time()-start)\n",
    "import time\n",
    "start=time.time()\n",
    "numpyarray=np.arange(10000000) * 2 \n",
    "print(\"Numpy Array Execution Time:\", time.time()-start)"
   ]
  },
  {
   "cell_type": "markdown",
   "metadata": {},
   "source": [
    "### Creating array from scratch"
   ]
  },
  {
   "cell_type": "code",
   "execution_count": 23,
   "metadata": {},
   "outputs": [
    {
     "name": "stdout",
     "output_type": "stream",
     "text": [
      "Zeros Array\n",
      " [[0. 0. 0. 0.]\n",
      " [0. 0. 0. 0.]\n",
      " [0. 0. 0. 0.]]\n",
      "Ones Array\n",
      " [[1. 1. 1. 1.]\n",
      " [1. 1. 1. 1.]\n",
      " [1. 1. 1. 1.]]\n",
      "Full Array\n",
      " [[6 6 6]\n",
      " [6 6 6]\n",
      " [6 6 6]]\n",
      "Random Array\n",
      " [[0.23777003 0.93996943 0.26100295]\n",
      " [0.58998693 0.47755108 0.02926475]\n",
      " [0.52409401 0.31671841 0.60367237]]\n",
      "Sequence Array [0 2 4 6 8]\n"
     ]
    }
   ],
   "source": [
    "zeros = np.zeros((3,4))\n",
    "print(\"Zeros Array\\n\",zeros)\n",
    "ones = np.ones((3,4))\n",
    "print(\"Ones Array\\n\",ones)\n",
    "full=np.full((3,3),6)\n",
    "print(\"Full Array\\n\",full)\n",
    "random=np.random.random((3,3))\n",
    "print(\"Random Array\\n\",random)\n",
    "sequence= np.arange(0,10,2)\n",
    "print(\"Sequence Array\",sequence)"
   ]
  }
 ],
 "metadata": {
  "kernelspec": {
   "display_name": ".venv",
   "language": "python",
   "name": "python3"
  },
  "language_info": {
   "codemirror_mode": {
    "name": "ipython",
    "version": 3
   },
   "file_extension": ".py",
   "mimetype": "text/x-python",
   "name": "python",
   "nbconvert_exporter": "python",
   "pygments_lexer": "ipython3",
   "version": "3.13.0"
  }
 },
 "nbformat": 4,
 "nbformat_minor": 2
}
