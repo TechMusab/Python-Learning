{
 "cells": [
  {
   "cell_type": "markdown",
   "metadata": {},
   "source": [
    "# Numpy Array Operations"
   ]
  },
  {
   "cell_type": "markdown",
   "metadata": {},
   "source": []
  },
  {
   "cell_type": "code",
   "execution_count": 4,
   "metadata": {},
   "outputs": [],
   "source": [
    "import numpy as np"
   ]
  },
  {
   "cell_type": "code",
   "execution_count": 5,
   "metadata": {},
   "outputs": [
    {
     "name": "stdout",
     "output_type": "stream",
     "text": [
      "Basic Slicing [3 4]\n"
     ]
    }
   ],
   "source": [
    "arr=np.array([1,2,3,4,5])\n",
    "print(\"Basic Slicing\",arr[2:4])"
   ]
  },
  {
   "cell_type": "code",
   "execution_count": 6,
   "metadata": {},
   "outputs": [
    {
     "name": "stdout",
     "output_type": "stream",
     "text": [
      "Specfic Element 6\n",
      "Entire Row: [4 5 6]\n",
      "Entire Column: [2 5]\n"
     ]
    }
   ],
   "source": [
    "arr_2d=np.array([[1,2,3],\n",
    "                 [4,5,6]])\n",
    "print(\"Specfic Element\",arr_2d[1,2])\n",
    "print(\"Entire Row:\",arr_2d[1])\n",
    "print(\"Entire Column:\",arr_2d[:,1])"
   ]
  },
  {
   "cell_type": "markdown",
   "metadata": {},
   "source": [
    "## Sorting"
   ]
  },
  {
   "cell_type": "code",
   "execution_count": 7,
   "metadata": {},
   "outputs": [
    {
     "name": "stdout",
     "output_type": "stream",
     "text": [
      "Sorted Array: [1 1 2 3 3 4 4 7]\n",
      "Sorted array by Column:\n",
      " [[1 2]\n",
      " [1 2]\n",
      " [3 4]]\n"
     ]
    }
   ],
   "source": [
    "unsorted=np.array([1,3,4,1,2,7,4,3])\n",
    "print(\"Sorted Array:\",np.sort(unsorted))\n",
    "arr_2d_unsorted=np.array([[1,2],\n",
    "                         [3,4],\n",
    "                         [1,2]])\n",
    "print(\"Sorted array by Column:\\n\",np.sort(arr_2d_unsorted,axis=0))"
   ]
  },
  {
   "cell_type": "markdown",
   "metadata": {},
   "source": [
    "## Filtering"
   ]
  },
  {
   "cell_type": "code",
   "execution_count": null,
   "metadata": {},
   "outputs": [],
   "source": []
  },
  {
   "cell_type": "code",
   "execution_count": 8,
   "metadata": {},
   "outputs": [
    {
     "name": "stdout",
     "output_type": "stream",
     "text": [
      "Even Numbers: [4 6 4]\n"
     ]
    }
   ],
   "source": [
    "numbers=np.array([1,3,4,5,1,6,4,5,3])\n",
    "even_numbers=numbers[numbers%2==0]\n",
    "print(\"Even Numbers:\",even_numbers)"
   ]
  },
  {
   "cell_type": "markdown",
   "metadata": {},
   "source": [
    "## Filter with Mask\n"
   ]
  },
  {
   "cell_type": "code",
   "execution_count": 9,
   "metadata": {},
   "outputs": [
    {
     "name": "stdout",
     "output_type": "stream",
     "text": [
      "Numbers with filter and mask [5 6 5]\n"
     ]
    }
   ],
   "source": [
    "mask=numbers>=5\n",
    "print(\"Numbers with filter and mask\",numbers[mask])"
   ]
  },
  {
   "cell_type": "markdown",
   "metadata": {},
   "source": [
    "## Fancy indexing vs np.where()"
   ]
  },
  {
   "cell_type": "code",
   "execution_count": 10,
   "metadata": {},
   "outputs": [
    {
     "name": "stdout",
     "output_type": "stream",
     "text": [
      "[3 4 5]\n",
      "Numbers with np.where [5 6 5]\n",
      "[ 1  3  4  5  1 12  4  5  3]\n"
     ]
    }
   ],
   "source": [
    "indices=[1,2,3]\n",
    "print(numbers[indices])\n",
    "where= np.where(numbers>4)\n",
    "print(\"Numbers with np.where\",numbers[where])\n",
    "# conditional clause as if/elsenumbers>5,numbers*2,numbers\n",
    "conditonarray=np.where(numbers>5,numbers*2,numbers)\n",
    "print(conditonarray)"
   ]
  }
 ],
 "metadata": {
  "kernelspec": {
   "display_name": ".venv",
   "language": "python",
   "name": "python3"
  },
  "language_info": {
   "codemirror_mode": {
    "name": "ipython",
    "version": 3
   },
   "file_extension": ".py",
   "mimetype": "text/x-python",
   "name": "python",
   "nbconvert_exporter": "python",
   "pygments_lexer": "ipython3",
   "version": "3.13.0"
  }
 },
 "nbformat": 4,
 "nbformat_minor": 2
}
