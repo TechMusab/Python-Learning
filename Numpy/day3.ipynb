{
 "cells": [
  {
   "cell_type": "code",
   "execution_count": 7,
   "metadata": {},
   "outputs": [],
   "source": [
    "import numpy as np\n",
    "import matplotlib.pyplot as plt"
   ]
  },
  {
   "cell_type": "code",
   "execution_count": 10,
   "metadata": {},
   "outputs": [
    {
     "name": "stdout",
     "output_type": "stream",
     "text": [
      "Zomato Sales Analysis\n",
      "\n",
      " Sales Data Shape: (8, 5)\n",
      "\n",
      " Sales Data for 1st 3 Restauranrs\n",
      " [[     1 150000 200000 250000 300000]\n",
      " [     2 200000 250000 300000 350000]\n",
      " [     3 250000 300000 350000 400000]]\n"
     ]
    }
   ],
   "source": [
    "sales_data=np.array([\n",
    "    [1, 150000, 200000, 250000,300000],\n",
    "    [2, 200000, 250000, 300000,350000],\n",
    "    [3, 250000, 300000, 350000,400000],\n",
    "    [4, 300000, 350000, 400000,450000],\n",
    "    [5, 350000, 400000, 450000,500000],\n",
    "    [6, 400000, 450000, 500000,550000],\n",
    "    [7, 450000, 500000, 550000,600000],\n",
    "    [8, 500000, 550000, 600000,650000]\n",
    "])\n",
    "print(\"Zomato Sales Analysis\")\n",
    "print(\"\\n Sales Data Shape:\",sales_data.shape)\n",
    "print(\"\\n Sales Data for 1st 3 Restaurants\\n\",sales_data[0:3])"
   ]
  },
  {
   "cell_type": "markdown",
   "metadata": {},
   "source": []
  }
 ],
 "metadata": {
  "kernelspec": {
   "display_name": ".venv",
   "language": "python",
   "name": "python3"
  },
  "language_info": {
   "codemirror_mode": {
    "name": "ipython",
    "version": 3
   },
   "file_extension": ".py",
   "mimetype": "text/x-python",
   "name": "python",
   "nbconvert_exporter": "python",
   "pygments_lexer": "ipython3",
   "version": "3.13.0"
  }
 },
 "nbformat": 4,
 "nbformat_minor": 2
}
